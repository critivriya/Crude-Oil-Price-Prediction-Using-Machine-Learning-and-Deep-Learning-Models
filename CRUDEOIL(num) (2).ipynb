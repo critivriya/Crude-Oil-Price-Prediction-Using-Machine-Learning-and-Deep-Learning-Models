{
 "cells": [
  {
   "cell_type": "code",
   "execution_count": 1,
   "id": "2f99eec6-2d69-42d2-8496-eda352ac6264",
   "metadata": {},
   "outputs": [],
   "source": [
    "import numpy as np\n",
    "import pandas as pd\n",
    "import matplotlib.pyplot as plt"
   ]
  },
  {
   "cell_type": "code",
   "execution_count": 2,
   "id": "1d73a0d6-137d-42f0-bdce-5ec6170a5e8e",
   "metadata": {},
   "outputs": [
    {
     "data": {
      "text/html": [
       "<div>\n",
       "<style scoped>\n",
       "    .dataframe tbody tr th:only-of-type {\n",
       "        vertical-align: middle;\n",
       "    }\n",
       "\n",
       "    .dataframe tbody tr th {\n",
       "        vertical-align: top;\n",
       "    }\n",
       "\n",
       "    .dataframe thead th {\n",
       "        text-align: right;\n",
       "    }\n",
       "</style>\n",
       "<table border=\"1\" class=\"dataframe\">\n",
       "  <thead>\n",
       "    <tr style=\"text-align: right;\">\n",
       "      <th></th>\n",
       "      <th>Date</th>\n",
       "      <th>Close/Last</th>\n",
       "      <th>Volume</th>\n",
       "      <th>Open</th>\n",
       "      <th>High</th>\n",
       "      <th>Low</th>\n",
       "    </tr>\n",
       "  </thead>\n",
       "  <tbody>\n",
       "    <tr>\n",
       "      <th>0</th>\n",
       "      <td>2022-10-28</td>\n",
       "      <td>87.90</td>\n",
       "      <td>241417.0</td>\n",
       "      <td>88.67</td>\n",
       "      <td>88.76</td>\n",
       "      <td>87.08</td>\n",
       "    </tr>\n",
       "    <tr>\n",
       "      <th>1</th>\n",
       "      <td>2022-10-27</td>\n",
       "      <td>88.26</td>\n",
       "      <td>273717.0</td>\n",
       "      <td>88.26</td>\n",
       "      <td>89.79</td>\n",
       "      <td>87.33</td>\n",
       "    </tr>\n",
       "    <tr>\n",
       "      <th>2</th>\n",
       "      <td>2022-10-26</td>\n",
       "      <td>87.91</td>\n",
       "      <td>271474.0</td>\n",
       "      <td>85.07</td>\n",
       "      <td>88.41</td>\n",
       "      <td>84.14</td>\n",
       "    </tr>\n",
       "    <tr>\n",
       "      <th>3</th>\n",
       "      <td>2022-10-25</td>\n",
       "      <td>85.32</td>\n",
       "      <td>226337.0</td>\n",
       "      <td>84.88</td>\n",
       "      <td>86.03</td>\n",
       "      <td>83.06</td>\n",
       "    </tr>\n",
       "    <tr>\n",
       "      <th>4</th>\n",
       "      <td>2022-10-24</td>\n",
       "      <td>84.58</td>\n",
       "      <td>238458.0</td>\n",
       "      <td>85.24</td>\n",
       "      <td>85.92</td>\n",
       "      <td>82.63</td>\n",
       "    </tr>\n",
       "  </tbody>\n",
       "</table>\n",
       "</div>"
      ],
      "text/plain": [
       "         Date  Close/Last    Volume   Open   High    Low\n",
       "0  2022-10-28       87.90  241417.0  88.67  88.76  87.08\n",
       "1  2022-10-27       88.26  273717.0  88.26  89.79  87.33\n",
       "2  2022-10-26       87.91  271474.0  85.07  88.41  84.14\n",
       "3  2022-10-25       85.32  226337.0  84.88  86.03  83.06\n",
       "4  2022-10-24       84.58  238458.0  85.24  85.92  82.63"
      ]
     },
     "execution_count": 2,
     "metadata": {},
     "output_type": "execute_result"
    }
   ],
   "source": [
    "df = pd.read_csv('Crude oil.csv')\n",
    "df.head()"
   ]
  },
  {
   "cell_type": "code",
   "execution_count": 3,
   "id": "13109189-cf1e-413a-99e5-7f8d869b2c50",
   "metadata": {},
   "outputs": [],
   "source": [
    "df['Date'] = pd.to_datetime(df['Date'])\n"
   ]
  },
  {
   "cell_type": "code",
   "execution_count": 4,
   "id": "14e95ce2-531f-4689-b127-2fa3c3220239",
   "metadata": {},
   "outputs": [],
   "source": [
    "df['Date'] = pd.to_datetime(df['Date'], format='%Y-%m-%d')\n"
   ]
  },
  {
   "cell_type": "code",
   "execution_count": 5,
   "id": "d1a06586-28e0-4a8b-b5fe-96c54877c634",
   "metadata": {},
   "outputs": [
    {
     "data": {
      "text/html": [
       "<div>\n",
       "<style scoped>\n",
       "    .dataframe tbody tr th:only-of-type {\n",
       "        vertical-align: middle;\n",
       "    }\n",
       "\n",
       "    .dataframe tbody tr th {\n",
       "        vertical-align: top;\n",
       "    }\n",
       "\n",
       "    .dataframe thead th {\n",
       "        text-align: right;\n",
       "    }\n",
       "</style>\n",
       "<table border=\"1\" class=\"dataframe\">\n",
       "  <thead>\n",
       "    <tr style=\"text-align: right;\">\n",
       "      <th></th>\n",
       "      <th>Date</th>\n",
       "      <th>Close/Last</th>\n",
       "      <th>Volume</th>\n",
       "      <th>Open</th>\n",
       "      <th>High</th>\n",
       "      <th>Low</th>\n",
       "    </tr>\n",
       "  </thead>\n",
       "  <tbody>\n",
       "    <tr>\n",
       "      <th>0</th>\n",
       "      <td>2022-10-28</td>\n",
       "      <td>87.90</td>\n",
       "      <td>241417.0</td>\n",
       "      <td>88.67</td>\n",
       "      <td>88.76</td>\n",
       "      <td>87.08</td>\n",
       "    </tr>\n",
       "    <tr>\n",
       "      <th>1</th>\n",
       "      <td>2022-10-27</td>\n",
       "      <td>88.26</td>\n",
       "      <td>273717.0</td>\n",
       "      <td>88.26</td>\n",
       "      <td>89.79</td>\n",
       "      <td>87.33</td>\n",
       "    </tr>\n",
       "    <tr>\n",
       "      <th>2</th>\n",
       "      <td>2022-10-26</td>\n",
       "      <td>87.91</td>\n",
       "      <td>271474.0</td>\n",
       "      <td>85.07</td>\n",
       "      <td>88.41</td>\n",
       "      <td>84.14</td>\n",
       "    </tr>\n",
       "    <tr>\n",
       "      <th>3</th>\n",
       "      <td>2022-10-25</td>\n",
       "      <td>85.32</td>\n",
       "      <td>226337.0</td>\n",
       "      <td>84.88</td>\n",
       "      <td>86.03</td>\n",
       "      <td>83.06</td>\n",
       "    </tr>\n",
       "    <tr>\n",
       "      <th>4</th>\n",
       "      <td>2022-10-24</td>\n",
       "      <td>84.58</td>\n",
       "      <td>238458.0</td>\n",
       "      <td>85.24</td>\n",
       "      <td>85.92</td>\n",
       "      <td>82.63</td>\n",
       "    </tr>\n",
       "    <tr>\n",
       "      <th>5</th>\n",
       "      <td>2022-10-21</td>\n",
       "      <td>85.14</td>\n",
       "      <td>259938.0</td>\n",
       "      <td>85.07</td>\n",
       "      <td>85.90</td>\n",
       "      <td>83.15</td>\n",
       "    </tr>\n",
       "    <tr>\n",
       "      <th>6</th>\n",
       "      <td>2022-10-20</td>\n",
       "      <td>85.98</td>\n",
       "      <td>12307.0</td>\n",
       "      <td>85.94</td>\n",
       "      <td>88.17</td>\n",
       "      <td>85.22</td>\n",
       "    </tr>\n",
       "    <tr>\n",
       "      <th>7</th>\n",
       "      <td>2022-10-19</td>\n",
       "      <td>85.55</td>\n",
       "      <td>38236.0</td>\n",
       "      <td>83.69</td>\n",
       "      <td>86.20</td>\n",
       "      <td>82.59</td>\n",
       "    </tr>\n",
       "    <tr>\n",
       "      <th>8</th>\n",
       "      <td>2022-10-18</td>\n",
       "      <td>82.82</td>\n",
       "      <td>83685.0</td>\n",
       "      <td>85.70</td>\n",
       "      <td>86.51</td>\n",
       "      <td>82.09</td>\n",
       "    </tr>\n",
       "    <tr>\n",
       "      <th>9</th>\n",
       "      <td>2022-10-17</td>\n",
       "      <td>85.46</td>\n",
       "      <td>143488.0</td>\n",
       "      <td>85.59</td>\n",
       "      <td>87.12</td>\n",
       "      <td>84.61</td>\n",
       "    </tr>\n",
       "  </tbody>\n",
       "</table>\n",
       "</div>"
      ],
      "text/plain": [
       "        Date  Close/Last    Volume   Open   High    Low\n",
       "0 2022-10-28       87.90  241417.0  88.67  88.76  87.08\n",
       "1 2022-10-27       88.26  273717.0  88.26  89.79  87.33\n",
       "2 2022-10-26       87.91  271474.0  85.07  88.41  84.14\n",
       "3 2022-10-25       85.32  226337.0  84.88  86.03  83.06\n",
       "4 2022-10-24       84.58  238458.0  85.24  85.92  82.63\n",
       "5 2022-10-21       85.14  259938.0  85.07  85.90  83.15\n",
       "6 2022-10-20       85.98   12307.0  85.94  88.17  85.22\n",
       "7 2022-10-19       85.55   38236.0  83.69  86.20  82.59\n",
       "8 2022-10-18       82.82   83685.0  85.70  86.51  82.09\n",
       "9 2022-10-17       85.46  143488.0  85.59  87.12  84.61"
      ]
     },
     "execution_count": 5,
     "metadata": {},
     "output_type": "execute_result"
    }
   ],
   "source": [
    "df.head(10)"
   ]
  },
  {
   "cell_type": "code",
   "execution_count": 6,
   "id": "bbe21498-d8ca-4bbc-810b-b2129ce394f8",
   "metadata": {},
   "outputs": [],
   "source": [
    "df_sorted = df.sort_values(by='Date',ascending=True)\n",
    "df_sorted = df_sorted.reset_index(drop=True)\n",
    "df_sorted.to_csv('Crude oil.csv', index=False)"
   ]
  },
  {
   "cell_type": "code",
   "execution_count": 7,
   "id": "8600582d-2436-4771-b08b-e7c8920884b5",
   "metadata": {},
   "outputs": [
    {
     "data": {
      "text/html": [
       "<div>\n",
       "<style scoped>\n",
       "    .dataframe tbody tr th:only-of-type {\n",
       "        vertical-align: middle;\n",
       "    }\n",
       "\n",
       "    .dataframe tbody tr th {\n",
       "        vertical-align: top;\n",
       "    }\n",
       "\n",
       "    .dataframe thead th {\n",
       "        text-align: right;\n",
       "    }\n",
       "</style>\n",
       "<table border=\"1\" class=\"dataframe\">\n",
       "  <thead>\n",
       "    <tr style=\"text-align: right;\">\n",
       "      <th></th>\n",
       "      <th>Date</th>\n",
       "      <th>Close/Last</th>\n",
       "      <th>Volume</th>\n",
       "      <th>Open</th>\n",
       "      <th>High</th>\n",
       "      <th>Low</th>\n",
       "    </tr>\n",
       "  </thead>\n",
       "  <tbody>\n",
       "    <tr>\n",
       "      <th>0</th>\n",
       "      <td>2012-10-31</td>\n",
       "      <td>86.24</td>\n",
       "      <td>192354.0</td>\n",
       "      <td>85.73</td>\n",
       "      <td>87.19</td>\n",
       "      <td>85.61</td>\n",
       "    </tr>\n",
       "    <tr>\n",
       "      <th>1</th>\n",
       "      <td>2012-11-01</td>\n",
       "      <td>87.09</td>\n",
       "      <td>185097.0</td>\n",
       "      <td>86.10</td>\n",
       "      <td>87.42</td>\n",
       "      <td>85.92</td>\n",
       "    </tr>\n",
       "    <tr>\n",
       "      <th>2</th>\n",
       "      <td>2012-11-02</td>\n",
       "      <td>84.86</td>\n",
       "      <td>273619.0</td>\n",
       "      <td>86.91</td>\n",
       "      <td>87.24</td>\n",
       "      <td>84.66</td>\n",
       "    </tr>\n",
       "    <tr>\n",
       "      <th>3</th>\n",
       "      <td>2012-11-05</td>\n",
       "      <td>85.65</td>\n",
       "      <td>185846.0</td>\n",
       "      <td>84.65</td>\n",
       "      <td>85.90</td>\n",
       "      <td>84.34</td>\n",
       "    </tr>\n",
       "    <tr>\n",
       "      <th>4</th>\n",
       "      <td>2012-11-06</td>\n",
       "      <td>88.71</td>\n",
       "      <td>270163.0</td>\n",
       "      <td>85.67</td>\n",
       "      <td>89.22</td>\n",
       "      <td>85.42</td>\n",
       "    </tr>\n",
       "  </tbody>\n",
       "</table>\n",
       "</div>"
      ],
      "text/plain": [
       "        Date  Close/Last    Volume   Open   High    Low\n",
       "0 2012-10-31       86.24  192354.0  85.73  87.19  85.61\n",
       "1 2012-11-01       87.09  185097.0  86.10  87.42  85.92\n",
       "2 2012-11-02       84.86  273619.0  86.91  87.24  84.66\n",
       "3 2012-11-05       85.65  185846.0  84.65  85.90  84.34\n",
       "4 2012-11-06       88.71  270163.0  85.67  89.22  85.42"
      ]
     },
     "execution_count": 7,
     "metadata": {},
     "output_type": "execute_result"
    }
   ],
   "source": [
    " df_sorted.head()"
   ]
  },
  {
   "cell_type": "code",
   "execution_count": 8,
   "id": "ff6afc40-05a9-4839-b73c-031853d52e01",
   "metadata": {},
   "outputs": [
    {
     "data": {
      "text/html": [
       "<div>\n",
       "<style scoped>\n",
       "    .dataframe tbody tr th:only-of-type {\n",
       "        vertical-align: middle;\n",
       "    }\n",
       "\n",
       "    .dataframe tbody tr th {\n",
       "        vertical-align: top;\n",
       "    }\n",
       "\n",
       "    .dataframe thead th {\n",
       "        text-align: right;\n",
       "    }\n",
       "</style>\n",
       "<table border=\"1\" class=\"dataframe\">\n",
       "  <thead>\n",
       "    <tr style=\"text-align: right;\">\n",
       "      <th></th>\n",
       "      <th>Date</th>\n",
       "      <th>Close/Last</th>\n",
       "      <th>Volume</th>\n",
       "      <th>Open</th>\n",
       "      <th>High</th>\n",
       "      <th>Low</th>\n",
       "    </tr>\n",
       "  </thead>\n",
       "  <tbody>\n",
       "    <tr>\n",
       "      <th>2512</th>\n",
       "      <td>2022-10-24</td>\n",
       "      <td>84.58</td>\n",
       "      <td>238458.0</td>\n",
       "      <td>85.24</td>\n",
       "      <td>85.92</td>\n",
       "      <td>82.63</td>\n",
       "    </tr>\n",
       "    <tr>\n",
       "      <th>2513</th>\n",
       "      <td>2022-10-25</td>\n",
       "      <td>85.32</td>\n",
       "      <td>226337.0</td>\n",
       "      <td>84.88</td>\n",
       "      <td>86.03</td>\n",
       "      <td>83.06</td>\n",
       "    </tr>\n",
       "    <tr>\n",
       "      <th>2514</th>\n",
       "      <td>2022-10-26</td>\n",
       "      <td>87.91</td>\n",
       "      <td>271474.0</td>\n",
       "      <td>85.07</td>\n",
       "      <td>88.41</td>\n",
       "      <td>84.14</td>\n",
       "    </tr>\n",
       "    <tr>\n",
       "      <th>2515</th>\n",
       "      <td>2022-10-27</td>\n",
       "      <td>88.26</td>\n",
       "      <td>273717.0</td>\n",
       "      <td>88.26</td>\n",
       "      <td>89.79</td>\n",
       "      <td>87.33</td>\n",
       "    </tr>\n",
       "    <tr>\n",
       "      <th>2516</th>\n",
       "      <td>2022-10-28</td>\n",
       "      <td>87.90</td>\n",
       "      <td>241417.0</td>\n",
       "      <td>88.67</td>\n",
       "      <td>88.76</td>\n",
       "      <td>87.08</td>\n",
       "    </tr>\n",
       "  </tbody>\n",
       "</table>\n",
       "</div>"
      ],
      "text/plain": [
       "           Date  Close/Last    Volume   Open   High    Low\n",
       "2512 2022-10-24       84.58  238458.0  85.24  85.92  82.63\n",
       "2513 2022-10-25       85.32  226337.0  84.88  86.03  83.06\n",
       "2514 2022-10-26       87.91  271474.0  85.07  88.41  84.14\n",
       "2515 2022-10-27       88.26  273717.0  88.26  89.79  87.33\n",
       "2516 2022-10-28       87.90  241417.0  88.67  88.76  87.08"
      ]
     },
     "execution_count": 8,
     "metadata": {},
     "output_type": "execute_result"
    }
   ],
   "source": [
    "df_sorted.tail()"
   ]
  },
  {
   "cell_type": "code",
   "execution_count": 9,
   "id": "6eb604ab-668a-4b97-bf69-43cbce86fd87",
   "metadata": {},
   "outputs": [
    {
     "data": {
      "text/plain": [
       "Date          0\n",
       "Close/Last    0\n",
       "Volume        0\n",
       "Open          0\n",
       "High          0\n",
       "Low           0\n",
       "dtype: int64"
      ]
     },
     "execution_count": 9,
     "metadata": {},
     "output_type": "execute_result"
    }
   ],
   "source": [
    "df.isnull().sum()"
   ]
  },
  {
   "cell_type": "code",
   "execution_count": 10,
   "id": "19cbc9a8-f0a1-444b-8764-22f1c19a3e77",
   "metadata": {},
   "outputs": [],
   "source": [
    "df_cleaned = df.dropna(subset=['Volume'])\n",
    "df_cleaned.to_csv('Crude oil.csv', index=False)"
   ]
  },
  {
   "cell_type": "code",
   "execution_count": 11,
   "id": "12f285ba-28c9-4860-8fea-f820ca1960c4",
   "metadata": {},
   "outputs": [
    {
     "data": {
      "text/plain": [
       "Date          0\n",
       "Close/Last    0\n",
       "Volume        0\n",
       "Open          0\n",
       "High          0\n",
       "Low           0\n",
       "dtype: int64"
      ]
     },
     "execution_count": 11,
     "metadata": {},
     "output_type": "execute_result"
    }
   ],
   "source": [
    "df_cleaned.isnull().sum()"
   ]
  },
  {
   "cell_type": "code",
   "execution_count": 12,
   "id": "120b9ca7-19c5-4bad-8266-2a3ed4da0d6d",
   "metadata": {},
   "outputs": [
    {
     "name": "stdout",
     "output_type": "stream",
     "text": [
      "      Close/Last    Volume      Open      High       Low       Date\n",
      "0       0.778095  0.142465  0.778100  0.752915  0.790764 2022-10-28\n",
      "1       0.780326  0.161538  0.775567  0.759172  0.792316 2022-10-27\n",
      "2       0.778157  0.160213  0.755855  0.750790  0.772516 2022-10-26\n",
      "3       0.762103  0.133560  0.754681  0.736334  0.765812 2022-10-25\n",
      "4       0.757516  0.140718  0.756905  0.735666  0.763143 2022-10-24\n",
      "...          ...       ...       ...       ...       ...        ...\n",
      "2512    0.783115  0.159439  0.759563  0.755709  0.780461 2012-11-06\n",
      "2513    0.764148  0.109650  0.753260  0.735544  0.773757 2012-11-05\n",
      "2514    0.759251  0.161480  0.767225  0.743683  0.775743 2012-11-02\n",
      "2515    0.773074  0.109208  0.762220  0.744776  0.783564 2012-11-01\n",
      "2516    0.767805  0.113493  0.759933  0.743379  0.781640 2012-10-31\n",
      "\n",
      "[2517 rows x 6 columns]\n"
     ]
    }
   ],
   "source": [
    "from sklearn.preprocessing import MinMaxScaler\n",
    "df['Date'] = pd.to_datetime(df['Date'])\n",
    "numerical_data = df[['Close/Last','Volume', 'Open', 'High', 'Low']]\n",
    "\n",
    "scaler = MinMaxScaler(feature_range=(0, 1))\n",
    "scaled_data = scaler.fit_transform(numerical_data)\n",
    "\n",
    "scaled_df = pd.DataFrame(scaled_data, columns=numerical_data.columns)\n",
    "\n",
    "scaled_df['Date'] = df['Date'].values\n",
    "\n",
    "print(scaled_df)\n"
   ]
  },
  {
   "cell_type": "code",
   "execution_count": 13,
   "id": "8885c3be-1929-4d43-9a40-725a08d9940a",
   "metadata": {},
   "outputs": [
    {
     "name": "stdout",
     "output_type": "stream",
     "text": [
      "trainig Data:\n",
      "[[0.77809459 0.1424648  0.77810048 0.75291545 0.79076407]\n",
      " [0.78032604 0.16153774 0.77556695 0.75917153 0.79231581]\n",
      " [0.77815657 0.16021326 0.75585491 0.7507896  0.77251567]\n",
      " ...\n",
      " [0.72094465 0.25435504 0.70821232 0.69576045 0.72484638]\n",
      " [0.71170892 0.24447254 0.71352654 0.69005102 0.72099808]\n",
      " [0.7215645  0.21892484 0.72817154 0.70566084 0.73490162]]\n",
      "\n",
      "Testing Data:\n",
      "[[0.73247381 0.16400777 0.73095223 0.70742225 0.74402582]\n",
      " [0.73606893 0.14920469 0.73645183 0.71240282 0.75128794]\n",
      " [0.74276328 0.15883918 0.73410369 0.71720117 0.75575694]\n",
      " ...\n",
      " [0.75925122 0.16147987 0.76722487 0.74368319 0.77574328]\n",
      " [0.77307382 0.10920821 0.76221961 0.74477648 0.78356402]\n",
      " [0.76780512 0.11349342 0.75993326 0.74337949 0.78163987]]\n"
     ]
    }
   ],
   "source": [
    "train_size = int(len(scaled_data)* 0.8)\n",
    "train_data = scaled_data[:train_size]\n",
    "test_data = scaled_data[train_size:]\n",
    "\n",
    "print(\"trainig Data:\")\n",
    "print(train_data)\n",
    "print(\"\\nTesting Data:\")\n",
    "print(test_data)"
   ]
  },
  {
   "cell_type": "code",
   "execution_count": 14,
   "id": "34a9819d-df27-4594-9706-467e8b708d81",
   "metadata": {},
   "outputs": [
    {
     "name": "stdout",
     "output_type": "stream",
     "text": [
      "X_train shape: (2457, 60, 1)\n",
      "y_train shape: (2457,)\n",
      "X_test shape: (2457, 60, 1)\n",
      "y_test shape: (2457,)\n"
     ]
    }
   ],
   "source": [
    "def create_dataset(data, window_size=1):\n",
    "    X,y = [], []\n",
    "    for i in range(len(data) - window_size):\n",
    "        a = data[i:(i + window_size), 0]\n",
    "        X.append(a)\n",
    "        y.append(data[i + window_size, 0])\n",
    "    return np.array(X), np.array(y)\n",
    "\n",
    "window_size = 60\n",
    "X_train,y_train = create_dataset(scaled_data, window_size)\n",
    "X_test,y_test = create_dataset(scaled_data, window_size)\n",
    "\n",
    "X_train = np.reshape(X_train,(X_train.shape[0], X_train.shape[1],1))\n",
    "X_test = np.reshape(X_test,(X_test.shape[0], X_test.shape[1],1))\n",
    "\n",
    "print(\"X_train shape:\", X_train.shape)\n",
    "print(\"y_train shape:\" ,y_train.shape)\n",
    "print(\"X_test shape:\" ,X_test.shape)\n",
    "print(\"y_test shape:\", y_test.shape)\n",
    "\n"
   ]
  },
  {
   "cell_type": "code",
   "execution_count": 15,
   "id": "02fe1c95-4327-404a-8741-f8fe7e4d678f",
   "metadata": {},
   "outputs": [],
   "source": [
    "from tensorflow.keras.models import Sequential\n",
    "from tensorflow.keras.layers import LSTM,Bidirectional,Dropout,Dense\n",
    "from tensorflow.keras.optimizers import Adam"
   ]
  },
  {
   "cell_type": "code",
   "execution_count": 16,
   "id": "6e237781-3a53-4a26-bf04-e1e7a8d02ff5",
   "metadata": {},
   "outputs": [
    {
     "name": "stderr",
     "output_type": "stream",
     "text": [
      "C:\\Users\\USER\\AppData\\Roaming\\Python\\Python311\\site-packages\\keras\\src\\layers\\rnn\\rnn.py:204: UserWarning: Do not pass an `input_shape`/`input_dim` argument to a layer. When using Sequential models, prefer using an `Input(shape)` object as the first layer in the model instead.\n",
      "  super().__init__(**kwargs)\n"
     ]
    }
   ],
   "source": [
    "model_bilstm = Sequential()\n",
    "model_bilstm.add(Bidirectional(LSTM(units=100, return_sequences=True, input_shape=(window_size,1))))\n",
    "model_bilstm.add(Dropout(0.2))\n",
    "model_bilstm.add(Bidirectional(LSTM(units=100,return_sequences=False)))\n",
    "model_bilstm.add(Dropout(0.2))\n",
    "model_bilstm.add(Dense(units=50))\n",
    "model_bilstm.add(Dense(units=1))"
   ]
  },
  {
   "cell_type": "code",
   "execution_count": 17,
   "id": "75bb5cd6-d7f0-4e07-9c0d-cef351ca5285",
   "metadata": {},
   "outputs": [
    {
     "name": "stdout",
     "output_type": "stream",
     "text": [
      "Epoch 1/10\n",
      "\u001b[1m62/62\u001b[0m \u001b[32m━━━━━━━━━━━━━━━━━━━━\u001b[0m\u001b[37m\u001b[0m \u001b[1m52s\u001b[0m 377ms/step - loss: 0.0437 - mae: 0.1393 - val_loss: 0.0017 - val_mae: 0.0322\n",
      "Epoch 2/10\n",
      "\u001b[1m62/62\u001b[0m \u001b[32m━━━━━━━━━━━━━━━━━━━━\u001b[0m\u001b[37m\u001b[0m \u001b[1m34s\u001b[0m 258ms/step - loss: 0.0026 - mae: 0.0393 - val_loss: 0.0016 - val_mae: 0.0328\n",
      "Epoch 3/10\n",
      "\u001b[1m62/62\u001b[0m \u001b[32m━━━━━━━━━━━━━━━━━━━━\u001b[0m\u001b[37m\u001b[0m \u001b[1m17s\u001b[0m 273ms/step - loss: 0.0018 - mae: 0.0325 - val_loss: 5.5479e-04 - val_mae: 0.0179\n",
      "Epoch 4/10\n",
      "\u001b[1m62/62\u001b[0m \u001b[32m━━━━━━━━━━━━━━━━━━━━\u001b[0m\u001b[37m\u001b[0m \u001b[1m21s\u001b[0m 276ms/step - loss: 0.0018 - mae: 0.0325 - val_loss: 3.9169e-04 - val_mae: 0.0162\n",
      "Epoch 5/10\n",
      "\u001b[1m62/62\u001b[0m \u001b[32m━━━━━━━━━━━━━━━━━━━━\u001b[0m\u001b[37m\u001b[0m \u001b[1m20s\u001b[0m 262ms/step - loss: 0.0014 - mae: 0.0286 - val_loss: 4.9992e-04 - val_mae: 0.0178\n",
      "Epoch 6/10\n",
      "\u001b[1m62/62\u001b[0m \u001b[32m━━━━━━━━━━━━━━━━━━━━\u001b[0m\u001b[37m\u001b[0m \u001b[1m15s\u001b[0m 247ms/step - loss: 0.0012 - mae: 0.0262 - val_loss: 2.6185e-04 - val_mae: 0.0130\n",
      "Epoch 7/10\n",
      "\u001b[1m62/62\u001b[0m \u001b[32m━━━━━━━━━━━━━━━━━━━━\u001b[0m\u001b[37m\u001b[0m \u001b[1m21s\u001b[0m 245ms/step - loss: 9.3363e-04 - mae: 0.0237 - val_loss: 2.0459e-04 - val_mae: 0.0115\n",
      "Epoch 8/10\n",
      "\u001b[1m62/62\u001b[0m \u001b[32m━━━━━━━━━━━━━━━━━━━━\u001b[0m\u001b[37m\u001b[0m \u001b[1m21s\u001b[0m 256ms/step - loss: 0.0011 - mae: 0.0245 - val_loss: 3.1475e-04 - val_mae: 0.0146\n",
      "Epoch 9/10\n",
      "\u001b[1m62/62\u001b[0m \u001b[32m━━━━━━━━━━━━━━━━━━━━\u001b[0m\u001b[37m\u001b[0m \u001b[1m15s\u001b[0m 240ms/step - loss: 8.6934e-04 - mae: 0.0221 - val_loss: 5.5748e-04 - val_mae: 0.0203\n",
      "Epoch 10/10\n",
      "\u001b[1m62/62\u001b[0m \u001b[32m━━━━━━━━━━━━━━━━━━━━\u001b[0m\u001b[37m\u001b[0m \u001b[1m15s\u001b[0m 246ms/step - loss: 0.0011 - mae: 0.0237 - val_loss: 2.5708e-04 - val_mae: 0.0132\n"
     ]
    }
   ],
   "source": [
    "model_bilstm.compile(\n",
    "    optimizer=Adam(learning_rate=0.001),\n",
    "    loss='mean_squared_error',\n",
    "    metrics=['mae']\n",
    ")\n",
    "history = model_bilstm.fit(X_train,y_train,batch_size=32,epochs=10,validation_split=0.2,verbose=1)"
   ]
  },
  {
   "cell_type": "code",
   "execution_count": 18,
   "id": "1aa2908c-632d-4aad-96c8-15cf1a708b75",
   "metadata": {},
   "outputs": [
    {
     "name": "stdout",
     "output_type": "stream",
     "text": [
      "\u001b[1m77/77\u001b[0m \u001b[32m━━━━━━━━━━━━━━━━━━━━\u001b[0m\u001b[37m\u001b[0m \u001b[1m5s\u001b[0m 70ms/step - loss: 6.4589e-04 - mae: 0.0193\n",
      " Test Loss:0.00045191406388767064\n",
      " Test MAE: 0.01626972295343876\n"
     ]
    }
   ],
   "source": [
    "test_loss, test_mae = model_bilstm.evaluate(X_test, y_test, verbose=1)\n",
    "print(f' Test Loss:{test_loss}')\n",
    "print(f' Test MAE: {test_mae}')"
   ]
  },
  {
   "cell_type": "code",
   "execution_count": 19,
   "id": "aa99fccb-d9cb-4d51-ad51-92054b212185",
   "metadata": {},
   "outputs": [
    {
     "name": "stdout",
     "output_type": "stream",
     "text": [
      "Epoch 1/10\n",
      "\u001b[1m62/62\u001b[0m \u001b[32m━━━━━━━━━━━━━━━━━━━━\u001b[0m\u001b[37m\u001b[0m \u001b[1m27s\u001b[0m 203ms/step - loss: 0.0557 - mae: 0.1643 - val_loss: 0.0053 - val_mae: 0.0718\n",
      "Epoch 2/10\n",
      "\u001b[1m62/62\u001b[0m \u001b[32m━━━━━━━━━━━━━━━━━━━━\u001b[0m\u001b[37m\u001b[0m \u001b[1m11s\u001b[0m 177ms/step - loss: 0.0026 - mae: 0.0397 - val_loss: 9.9381e-04 - val_mae: 0.0297\n",
      "Epoch 3/10\n",
      "\u001b[1m62/62\u001b[0m \u001b[32m━━━━━━━━━━━━━━━━━━━━\u001b[0m\u001b[37m\u001b[0m \u001b[1m10s\u001b[0m 166ms/step - loss: 0.0023 - mae: 0.0368 - val_loss: 2.2612e-04 - val_mae: 0.0124\n",
      "Epoch 4/10\n",
      "\u001b[1m62/62\u001b[0m \u001b[32m━━━━━━━━━━━━━━━━━━━━\u001b[0m\u001b[37m\u001b[0m \u001b[1m21s\u001b[0m 170ms/step - loss: 0.0018 - mae: 0.0332 - val_loss: 2.6540e-04 - val_mae: 0.0137\n",
      "Epoch 5/10\n",
      "\u001b[1m62/62\u001b[0m \u001b[32m━━━━━━━━━━━━━━━━━━━━\u001b[0m\u001b[37m\u001b[0m \u001b[1m25s\u001b[0m 236ms/step - loss: 0.0018 - mae: 0.0335 - val_loss: 1.4695e-04 - val_mae: 0.0100\n",
      "Epoch 6/10\n",
      "\u001b[1m62/62\u001b[0m \u001b[32m━━━━━━━━━━━━━━━━━━━━\u001b[0m\u001b[37m\u001b[0m \u001b[1m17s\u001b[0m 172ms/step - loss: 0.0016 - mae: 0.0313 - val_loss: 1.2576e-04 - val_mae: 0.0091\n",
      "Epoch 7/10\n",
      "\u001b[1m62/62\u001b[0m \u001b[32m━━━━━━━━━━━━━━━━━━━━\u001b[0m\u001b[37m\u001b[0m \u001b[1m12s\u001b[0m 198ms/step - loss: 0.0015 - mae: 0.0305 - val_loss: 0.0012 - val_mae: 0.0329\n",
      "Epoch 8/10\n",
      "\u001b[1m62/62\u001b[0m \u001b[32m━━━━━━━━━━━━━━━━━━━━\u001b[0m\u001b[37m\u001b[0m \u001b[1m19s\u001b[0m 175ms/step - loss: 0.0017 - mae: 0.0315 - val_loss: 1.1484e-04 - val_mae: 0.0087\n",
      "Epoch 9/10\n",
      "\u001b[1m62/62\u001b[0m \u001b[32m━━━━━━━━━━━━━━━━━━━━\u001b[0m\u001b[37m\u001b[0m \u001b[1m21s\u001b[0m 180ms/step - loss: 0.0013 - mae: 0.0283 - val_loss: 5.0770e-04 - val_mae: 0.0203\n",
      "Epoch 10/10\n",
      "\u001b[1m62/62\u001b[0m \u001b[32m━━━━━━━━━━━━━━━━━━━━\u001b[0m\u001b[37m\u001b[0m \u001b[1m12s\u001b[0m 196ms/step - loss: 0.0015 - mae: 0.0297 - val_loss: 2.2702e-04 - val_mae: 0.0126\n",
      "\u001b[1m77/77\u001b[0m \u001b[32m━━━━━━━━━━━━━━━━━━━━\u001b[0m\u001b[37m\u001b[0m \u001b[1m4s\u001b[0m 47ms/step - loss: 5.7186e-04 - mae: 0.0186\n",
      "Test Loss: 0.0004099504731129855\n",
      "Test MAE: 0.01592385768890381\n"
     ]
    }
   ],
   "source": [
    "import numpy as np\n",
    "from tensorflow.keras.models import Sequential\n",
    "from tensorflow.keras.layers import GRU, Dropout, Dense\n",
    "from tensorflow.keras.optimizers import Adam\n",
    "\n",
    "\n",
    "model_gru = Sequential()\n",
    "model_gru.add(GRU(units=100, return_sequences=True, input_shape=(window_size, 1)))\n",
    "model_gru.add(Dropout(0.2))\n",
    "model_gru.add(GRU(units=100, return_sequences=False))\n",
    "model_gru.add(Dropout(0.2))\n",
    "model_gru.add(Dense(units=1))  \n",
    "\n",
    "\n",
    "model_gru.compile(\n",
    "    optimizer=Adam(learning_rate=0.001),\n",
    "    loss='mean_squared_error',\n",
    "    metrics=['mae']\n",
    ")\n",
    "\n",
    "\n",
    "history = model_gru.fit(X_train, y_train, batch_size=32, epochs=10, validation_split=0.2, verbose=1)\n",
    "\n",
    "test_loss, test_mae = model_gru.evaluate(X_test, y_test, verbose=1)\n",
    "print(f'Test Loss: {test_loss}')\n",
    "print(f'Test MAE: {test_mae}')\n"
   ]
  },
  {
   "cell_type": "code",
   "execution_count": 20,
   "id": "129bf195-dfba-438d-a2db-bb1955da0422",
   "metadata": {},
   "outputs": [
    {
     "name": "stdout",
     "output_type": "stream",
     "text": [
      "Epoch 1/10\n",
      "\u001b[1m62/62\u001b[0m \u001b[32m━━━━━━━━━━━━━━━━━━━━\u001b[0m\u001b[37m\u001b[0m \u001b[1m25s\u001b[0m 196ms/step - loss: 0.0530 - mae: 0.1583 - val_loss: 0.0049 - val_mae: 0.0684\n",
      "Epoch 2/10\n",
      "\u001b[1m62/62\u001b[0m \u001b[32m━━━━━━━━━━━━━━━━━━━━\u001b[0m\u001b[37m\u001b[0m \u001b[1m9s\u001b[0m 146ms/step - loss: 0.0028 - mae: 0.0410 - val_loss: 2.4204e-04 - val_mae: 0.0125\n",
      "Epoch 3/10\n",
      "\u001b[1m62/62\u001b[0m \u001b[32m━━━━━━━━━━━━━━━━━━━━\u001b[0m\u001b[37m\u001b[0m \u001b[1m12s\u001b[0m 166ms/step - loss: 0.0022 - mae: 0.0359 - val_loss: 0.0019 - val_mae: 0.0413\n",
      "Epoch 4/10\n",
      "\u001b[1m62/62\u001b[0m \u001b[32m━━━━━━━━━━━━━━━━━━━━\u001b[0m\u001b[37m\u001b[0m \u001b[1m10s\u001b[0m 161ms/step - loss: 0.0023 - mae: 0.0363 - val_loss: 2.1188e-04 - val_mae: 0.0117\n",
      "Epoch 5/10\n",
      "\u001b[1m62/62\u001b[0m \u001b[32m━━━━━━━━━━━━━━━━━━━━\u001b[0m\u001b[37m\u001b[0m \u001b[1m11s\u001b[0m 163ms/step - loss: 0.0019 - mae: 0.0334 - val_loss: 5.2110e-04 - val_mae: 0.0193\n",
      "Epoch 6/10\n",
      "\u001b[1m62/62\u001b[0m \u001b[32m━━━━━━━━━━━━━━━━━━━━\u001b[0m\u001b[37m\u001b[0m \u001b[1m10s\u001b[0m 154ms/step - loss: 0.0020 - mae: 0.0334 - val_loss: 3.6105e-04 - val_mae: 0.0156\n",
      "Epoch 7/10\n",
      "\u001b[1m62/62\u001b[0m \u001b[32m━━━━━━━━━━━━━━━━━━━━\u001b[0m\u001b[37m\u001b[0m \u001b[1m9s\u001b[0m 142ms/step - loss: 0.0025 - mae: 0.0387 - val_loss: 7.2840e-04 - val_mae: 0.0237\n",
      "Epoch 8/10\n",
      "\u001b[1m62/62\u001b[0m \u001b[32m━━━━━━━━━━━━━━━━━━━━\u001b[0m\u001b[37m\u001b[0m \u001b[1m10s\u001b[0m 141ms/step - loss: 0.0017 - mae: 0.0317 - val_loss: 0.0013 - val_mae: 0.0336\n",
      "Epoch 9/10\n",
      "\u001b[1m62/62\u001b[0m \u001b[32m━━━━━━━━━━━━━━━━━━━━\u001b[0m\u001b[37m\u001b[0m \u001b[1m10s\u001b[0m 155ms/step - loss: 0.0019 - mae: 0.0333 - val_loss: 4.3253e-04 - val_mae: 0.0174\n",
      "Epoch 10/10\n",
      "\u001b[1m62/62\u001b[0m \u001b[32m━━━━━━━━━━━━━━━━━━━━\u001b[0m\u001b[37m\u001b[0m \u001b[1m8s\u001b[0m 134ms/step - loss: 0.0017 - mae: 0.0314 - val_loss: 2.5881e-04 - val_mae: 0.0127\n",
      "\u001b[1m77/77\u001b[0m \u001b[32m━━━━━━━━━━━━━━━━━━━━\u001b[0m\u001b[37m\u001b[0m \u001b[1m3s\u001b[0m 43ms/step - loss: 5.9696e-04 - mae: 0.0161\n",
      "LSTM Test Loss: 0.0003831389476545155\n",
      "LSTM Test MAE: 0.013358480297029018\n"
     ]
    }
   ],
   "source": [
    "model_lstm = Sequential()\n",
    "model_lstm.add(LSTM(units=100, return_sequences=True, input_shape=(window_size, 1)))\n",
    "model_lstm.add(Dropout(0.2))\n",
    "model_lstm.add(LSTM(units=100, return_sequences=False))\n",
    "model_lstm.add(Dropout(0.2))\n",
    "model_lstm.add(Dense(units=1)) \n",
    "\n",
    "\n",
    "model_lstm.compile(\n",
    "    optimizer=Adam(learning_rate=0.001),\n",
    "    loss='mean_squared_error',\n",
    "    metrics=['mae']\n",
    ")\n",
    "\n",
    "\n",
    "history_lstm = model_lstm.fit(X_train, y_train, batch_size=32, epochs=10, validation_split=0.2, verbose=1)\n",
    "\n",
    "\n",
    "test_loss_lstm, test_mae_lstm = model_lstm.evaluate(X_test, y_test, verbose=1)\n",
    "print(f'LSTM Test Loss: {test_loss_lstm}')\n",
    "print(f'LSTM Test MAE: {test_mae_lstm}')"
   ]
  },
  {
   "cell_type": "code",
   "execution_count": 21,
   "id": "9483d07b-d67a-4064-abfe-2fb3d2d50591",
   "metadata": {},
   "outputs": [],
   "source": [
    "from tensorflow.keras.models import Sequential\n",
    "from tensorflow.keras.layers import SimpleRNN, Dropout, Dense\n",
    "from tensorflow.keras.optimizers import Adam\n"
   ]
  },
  {
   "cell_type": "code",
   "execution_count": 22,
   "id": "48bce0e1-b853-456e-8626-626a02e31ef4",
   "metadata": {},
   "outputs": [
    {
     "name": "stdout",
     "output_type": "stream",
     "text": [
      "Epoch 1/10\n",
      "\u001b[1m62/62\u001b[0m \u001b[32m━━━━━━━━━━━━━━━━━━━━\u001b[0m\u001b[37m\u001b[0m \u001b[1m15s\u001b[0m 83ms/step - loss: 0.1782 - mae: 0.3094 - val_loss: 0.0016 - val_mae: 0.0376\n",
      "Epoch 2/10\n",
      "\u001b[1m62/62\u001b[0m \u001b[32m━━━━━━━━━━━━━━━━━━━━\u001b[0m\u001b[37m\u001b[0m \u001b[1m4s\u001b[0m 68ms/step - loss: 0.0202 - mae: 0.1108 - val_loss: 0.0013 - val_mae: 0.0342\n",
      "Epoch 3/10\n",
      "\u001b[1m62/62\u001b[0m \u001b[32m━━━━━━━━━━━━━━━━━━━━\u001b[0m\u001b[37m\u001b[0m \u001b[1m3s\u001b[0m 49ms/step - loss: 0.0118 - mae: 0.0851 - val_loss: 1.9403e-04 - val_mae: 0.0114\n",
      "Epoch 4/10\n",
      "\u001b[1m62/62\u001b[0m \u001b[32m━━━━━━━━━━━━━━━━━━━━\u001b[0m\u001b[37m\u001b[0m \u001b[1m4s\u001b[0m 64ms/step - loss: 0.0086 - mae: 0.0735 - val_loss: 2.0504e-04 - val_mae: 0.0117\n",
      "Epoch 5/10\n",
      "\u001b[1m62/62\u001b[0m \u001b[32m━━━━━━━━━━━━━━━━━━━━\u001b[0m\u001b[37m\u001b[0m \u001b[1m4s\u001b[0m 57ms/step - loss: 0.0072 - mae: 0.0659 - val_loss: 0.0031 - val_mae: 0.0540\n",
      "Epoch 6/10\n",
      "\u001b[1m62/62\u001b[0m \u001b[32m━━━━━━━━━━━━━━━━━━━━\u001b[0m\u001b[37m\u001b[0m \u001b[1m5s\u001b[0m 51ms/step - loss: 0.0060 - mae: 0.0617 - val_loss: 7.2508e-04 - val_mae: 0.0253\n",
      "Epoch 7/10\n",
      "\u001b[1m62/62\u001b[0m \u001b[32m━━━━━━━━━━━━━━━━━━━━\u001b[0m\u001b[37m\u001b[0m \u001b[1m4s\u001b[0m 63ms/step - loss: 0.0055 - mae: 0.0582 - val_loss: 2.1515e-04 - val_mae: 0.0121\n",
      "Epoch 8/10\n",
      "\u001b[1m62/62\u001b[0m \u001b[32m━━━━━━━━━━━━━━━━━━━━\u001b[0m\u001b[37m\u001b[0m \u001b[1m4s\u001b[0m 63ms/step - loss: 0.0048 - mae: 0.0537 - val_loss: 9.1047e-05 - val_mae: 0.0076\n",
      "Epoch 9/10\n",
      "\u001b[1m62/62\u001b[0m \u001b[32m━━━━━━━━━━━━━━━━━━━━\u001b[0m\u001b[37m\u001b[0m \u001b[1m5s\u001b[0m 65ms/step - loss: 0.0050 - mae: 0.0550 - val_loss: 7.7397e-04 - val_mae: 0.0261\n",
      "Epoch 10/10\n",
      "\u001b[1m62/62\u001b[0m \u001b[32m━━━━━━━━━━━━━━━━━━━━\u001b[0m\u001b[37m\u001b[0m \u001b[1m4s\u001b[0m 66ms/step - loss: 0.0043 - mae: 0.0514 - val_loss: 4.3979e-04 - val_mae: 0.0189\n",
      "\u001b[1m77/77\u001b[0m \u001b[32m━━━━━━━━━━━━━━━━━━━━\u001b[0m\u001b[37m\u001b[0m \u001b[1m1s\u001b[0m 15ms/step - loss: 9.0958e-04 - mae: 0.0263\n",
      "RNN Test Loss: 0.0007619280368089676\n",
      "RNN Test MAE: 0.024441547691822052\n"
     ]
    }
   ],
   "source": [
    "model_rnn = Sequential()\n",
    "model_rnn.add(SimpleRNN(units=100, return_sequences=True, input_shape=(window_size, 1)))\n",
    "model_rnn.add(Dropout(0.2))\n",
    "model_rnn.add(SimpleRNN(units=100, return_sequences=False))\n",
    "model_rnn.add(Dropout(0.2))\n",
    "model_rnn.add(Dense(units=1))\n",
    "\n",
    "\n",
    "model_rnn.compile(\n",
    "    optimizer=Adam(learning_rate=0.001),\n",
    "    loss='mean_squared_error',\n",
    "    metrics=['mae']\n",
    ")\n",
    "\n",
    "\n",
    "history_rnn = model_rnn.fit(X_train, y_train, batch_size=32, epochs=10, validation_split=0.2, verbose=1)\n",
    "\n",
    "\n",
    "test_loss_rnn, test_mae_rnn = model_rnn.evaluate(X_test, y_test, verbose=1)\n",
    "print(f'RNN Test Loss: {test_loss_rnn}')\n",
    "print(f'RNN Test MAE: {test_mae_rnn}')"
   ]
  },
  {
   "cell_type": "code",
   "execution_count": 23,
   "id": "24c0e7fe-075a-46f3-bb26-5a18cbc7bcd7",
   "metadata": {},
   "outputs": [
    {
     "name": "stderr",
     "output_type": "stream",
     "text": [
      "C:\\Users\\USER\\AppData\\Roaming\\Python\\Python311\\site-packages\\keras\\src\\layers\\convolutional\\base_conv.py:107: UserWarning: Do not pass an `input_shape`/`input_dim` argument to a layer. When using Sequential models, prefer using an `Input(shape)` object as the first layer in the model instead.\n",
      "  super().__init__(activity_regularizer=activity_regularizer, **kwargs)\n"
     ]
    },
    {
     "name": "stdout",
     "output_type": "stream",
     "text": [
      "Epoch 1/10\n",
      "\u001b[1m62/62\u001b[0m \u001b[32m━━━━━━━━━━━━━━━━━━━━\u001b[0m\u001b[37m\u001b[0m \u001b[1m8s\u001b[0m 31ms/step - loss: 0.3109 - mae: 0.5257 - val_loss: 0.0133 - val_mae: 0.1102\n",
      "Epoch 2/10\n",
      "\u001b[1m62/62\u001b[0m \u001b[32m━━━━━━━━━━━━━━━━━━━━\u001b[0m\u001b[37m\u001b[0m \u001b[1m2s\u001b[0m 14ms/step - loss: 0.0049 - mae: 0.0540 - val_loss: 0.0288 - val_mae: 0.1667\n",
      "Epoch 3/10\n",
      "\u001b[1m62/62\u001b[0m \u001b[32m━━━━━━━━━━━━━━━━━━━━\u001b[0m\u001b[37m\u001b[0m \u001b[1m1s\u001b[0m 13ms/step - loss: 0.0039 - mae: 0.0481 - val_loss: 0.0227 - val_mae: 0.1476\n",
      "Epoch 4/10\n",
      "\u001b[1m62/62\u001b[0m \u001b[32m━━━━━━━━━━━━━━━━━━━━\u001b[0m\u001b[37m\u001b[0m \u001b[1m1s\u001b[0m 13ms/step - loss: 0.0037 - mae: 0.0457 - val_loss: 0.0361 - val_mae: 0.1877\n",
      "Epoch 5/10\n",
      "\u001b[1m62/62\u001b[0m \u001b[32m━━━━━━━━━━━━━━━━━━━━\u001b[0m\u001b[37m\u001b[0m \u001b[1m2s\u001b[0m 17ms/step - loss: 0.0034 - mae: 0.0436 - val_loss: 0.0268 - val_mae: 0.1613\n",
      "Epoch 6/10\n",
      "\u001b[1m62/62\u001b[0m \u001b[32m━━━━━━━━━━━━━━━━━━━━\u001b[0m\u001b[37m\u001b[0m \u001b[1m2s\u001b[0m 25ms/step - loss: 0.0028 - mae: 0.0413 - val_loss: 0.0333 - val_mae: 0.1807\n",
      "Epoch 7/10\n",
      "\u001b[1m62/62\u001b[0m \u001b[32m━━━━━━━━━━━━━━━━━━━━\u001b[0m\u001b[37m\u001b[0m \u001b[1m2s\u001b[0m 14ms/step - loss: 0.0026 - mae: 0.0379 - val_loss: 0.0317 - val_mae: 0.1764\n",
      "Epoch 8/10\n",
      "\u001b[1m62/62\u001b[0m \u001b[32m━━━━━━━━━━━━━━━━━━━━\u001b[0m\u001b[37m\u001b[0m \u001b[1m2s\u001b[0m 20ms/step - loss: 0.0024 - mae: 0.0377 - val_loss: 0.0312 - val_mae: 0.1749\n",
      "Epoch 9/10\n",
      "\u001b[1m62/62\u001b[0m \u001b[32m━━━━━━━━━━━━━━━━━━━━\u001b[0m\u001b[37m\u001b[0m \u001b[1m2s\u001b[0m 24ms/step - loss: 0.0021 - mae: 0.0359 - val_loss: 0.0294 - val_mae: 0.1701\n",
      "Epoch 10/10\n",
      "\u001b[1m62/62\u001b[0m \u001b[32m━━━━━━━━━━━━━━━━━━━━\u001b[0m\u001b[37m\u001b[0m \u001b[1m3s\u001b[0m 23ms/step - loss: 0.0020 - mae: 0.0338 - val_loss: 0.0318 - val_mae: 0.1769\n",
      "\u001b[1m77/77\u001b[0m \u001b[32m━━━━━━━━━━━━━━━━━━━━\u001b[0m\u001b[37m\u001b[0m \u001b[1m1s\u001b[0m 6ms/step - loss: 0.0181 - mae: 0.1258\n",
      "CNN Test Loss: 0.01755036599934101\n",
      "CNN Test MAE: 0.12549708783626556\n"
     ]
    }
   ],
   "source": [
    "from tensorflow.keras.models import Sequential\n",
    "from tensorflow.keras.layers import Conv1D, MaxPooling1D, Flatten, Dropout, Dense\n",
    "from tensorflow.keras.optimizers import Adam\n",
    "\n",
    "\n",
    "model_cnn = Sequential()\n",
    "model_cnn.add(Conv1D(filters=64, kernel_size=3, activation='relu', input_shape=(window_size, 1)))\n",
    "model_cnn.add(MaxPooling1D(pool_size=2))\n",
    "model_cnn.add(Dropout(0.2))\n",
    "model_cnn.add(Conv1D(filters=128, kernel_size=3, activation='relu'))\n",
    "model_cnn.add(MaxPooling1D(pool_size=2))\n",
    "model_cnn.add(Dropout(0.2))\n",
    "\n",
    "\n",
    "model_cnn.add(Flatten())\n",
    "model_cnn.add(Dense(units=1, activation='relu'))\n",
    "\n",
    "\n",
    "model_cnn.compile(\n",
    "    optimizer=Adam(learning_rate=0.001),\n",
    "    loss='mean_squared_error',\n",
    "    metrics=['mae']\n",
    ")\n",
    "\n",
    "\n",
    "history_cnn = model_cnn.fit(X_train, y_train, batch_size=32, epochs=10, validation_split=0.2, verbose=1)\n",
    "\n",
    "\n",
    "test_loss_cnn, test_mae_cnn = model_cnn.evaluate(X_test, y_test, verbose=1)\n",
    "print(f'CNN Test Loss: {test_loss_cnn}')\n",
    "print(f'CNN Test MAE: {test_mae_cnn}')\n"
   ]
  },
  {
   "cell_type": "code",
   "execution_count": 24,
   "id": "7c20c84d-53d9-4061-ada2-e6b27e371782",
   "metadata": {},
   "outputs": [
    {
     "name": "stdout",
     "output_type": "stream",
     "text": [
      "\u001b[1m77/77\u001b[0m \u001b[32m━━━━━━━━━━━━━━━━━━━━\u001b[0m\u001b[37m\u001b[0m \u001b[1m11s\u001b[0m 107ms/step\n",
      "\u001b[1m77/77\u001b[0m \u001b[32m━━━━━━━━━━━━━━━━━━━━\u001b[0m\u001b[37m\u001b[0m \u001b[1m4s\u001b[0m 36ms/step\n",
      "\u001b[1m77/77\u001b[0m \u001b[32m━━━━━━━━━━━━━━━━━━━━\u001b[0m\u001b[37m\u001b[0m \u001b[1m1s\u001b[0m 6ms/step\n",
      "\u001b[1m77/77\u001b[0m \u001b[32m━━━━━━━━━━━━━━━━━━━━\u001b[0m\u001b[37m\u001b[0m \u001b[1m5s\u001b[0m 56ms/step\n",
      "\u001b[1m77/77\u001b[0m \u001b[32m━━━━━━━━━━━━━━━━━━━━\u001b[0m\u001b[37m\u001b[0m \u001b[1m6s\u001b[0m 61ms/step\n",
      "BiLSTM - MAE: 0.01626971953454034, MSE: 0.00045191405992985544\n",
      "RNN - MAE: 0.024441558794474592, MSE: 0.0007619284529797913\n",
      "CNN - MAE: 0.12549710743454948, MSE: 0.017550370477418867\n",
      "LSTM - MAE: 0.01335848277447336, MSE: 0.0003831389202001547\n",
      "GRU - MAE: 0.01592385637653581, MSE: 0.00040995048873168323\n"
     ]
    }
   ],
   "source": [
    "predictions_bi_lstm = model_bilstm.predict(X_test)\n",
    "predictions_rnn = model_rnn.predict(X_test)\n",
    "predictions_cnn = model_cnn.predict(X_test)\n",
    "predictions_lstm = model_lstm.predict(X_test)\n",
    "predictions_gru = model_gru.predict(X_test)\n",
    "\n",
    "\n",
    "from sklearn.metrics import mean_absolute_error, mean_squared_error\n",
    "\n",
    "# BiLSTM model\n",
    "mae_bi_lstm = mean_absolute_error(y_test, predictions_bi_lstm)\n",
    "mse_bi_lstm = mean_squared_error(y_test, predictions_bi_lstm)\n",
    "print(f'BiLSTM - MAE: {mae_bi_lstm}, MSE: {mse_bi_lstm}')\n",
    "\n",
    "# RNN model\n",
    "mae_rnn = mean_absolute_error(y_test, predictions_rnn)\n",
    "mse_rnn = mean_squared_error(y_test, predictions_rnn)\n",
    "print(f'RNN - MAE: {mae_rnn}, MSE: {mse_rnn}')\n",
    "\n",
    "# CNN model\n",
    "mae_cnn = mean_absolute_error(y_test, predictions_cnn)\n",
    "mse_cnn = mean_squared_error(y_test, predictions_cnn)\n",
    "print(f'CNN - MAE: {mae_cnn}, MSE: {mse_cnn}')\n",
    "\n",
    "# LSTM model\n",
    "mae_lstm = mean_absolute_error(y_test, predictions_lstm)\n",
    "mse_lstm = mean_squared_error(y_test, predictions_lstm)\n",
    "print(f'LSTM - MAE: {mae_lstm}, MSE: {mse_lstm}')\n",
    "\n",
    "# GRU model\n",
    "mae_gru = mean_absolute_error(y_test, predictions_gru)\n",
    "mse_gru = mean_squared_error(y_test, predictions_gru)\n",
    "print(f'GRU - MAE: {mae_gru}, MSE: {mse_gru}')\n"
   ]
  },
  {
   "cell_type": "code",
   "execution_count": 25,
   "id": "0e25ea3f-9137-466a-9cdd-6f972f707218",
   "metadata": {},
   "outputs": [
    {
     "name": "stdout",
     "output_type": "stream",
     "text": [
      "Length of actual prices (y_test): 2457\n",
      "Length of dates: 443\n",
      "Length of predictions (Bidirectional LSTM): 2457\n",
      "Length of predictions (RNN): 2457\n",
      "Length of predictions (CNN): 2457\n",
      "Length of predictions (LSTM): 2457\n"
     ]
    }
   ],
   "source": [
    "print(\"Length of actual prices (y_test):\", len(y_test))\n",
    "print(\"Length of dates:\", len(df_sorted['Date'].values[train_size + window_size + 1:]))\n",
    "print(\"Length of predictions (Bidirectional LSTM):\", len(predictions_bi_lstm))\n",
    "print(\"Length of predictions (RNN):\", len(predictions_rnn))\n",
    "print(\"Length of predictions (CNN):\", len(predictions_cnn))\n",
    "print(\"Length of predictions (LSTM):\", len(predictions_lstm))\n"
   ]
  },
  {
   "cell_type": "code",
   "execution_count": 26,
   "id": "cf08bf92-be92-44d0-b506-deee6a0e33ec",
   "metadata": {},
   "outputs": [
    {
     "name": "stdout",
     "output_type": "stream",
     "text": [
      "Adjusting end_index from 4944 to 2517\n"
     ]
    },
    {
     "data": {
      "image/png": "[encoded data removed]",
      "text/plain": [
       "<Figure size 1400x700 with 1 Axes>"
      ]
     },
     "metadata": {},
     "output_type": "display_data"
    }
   ],
   "source": [
    "train_size = len(X_train)  \n",
    "window_size = 30  \n",
    "start_index = train_size + window_size  \n",
    "end_index = start_index + len(y_test) \n",
    "\n",
    "\n",
    "if end_index > len(df_sorted):\n",
    "    print(f\"Adjusting end_index from {end_index} to {len(df_sorted)}\")\n",
    "    end_index = len(df_sorted)\n",
    "\n",
    "\n",
    "plt.figure(figsize=(14, 7))\n",
    "\n",
    "\n",
    "plt.plot(df_sorted['Date'].values[start_index:end_index], y_test[:end_index - start_index], \n",
    "         color='blue', label='Actual Crude Oil Price')\n",
    "\n",
    "\n",
    "plt.plot(df_sorted['Date'].values[start_index:end_index], predictions_bi_lstm[:end_index - start_index], \n",
    "         color='red', label='Predicted Crude Oil Price - Bidirectional LSTM')\n",
    "plt.plot(df_sorted['Date'].values[start_index:end_index], predictions_rnn[:end_index - start_index], \n",
    "         color='green', label='Predicted Crude Oil Price - RNN')\n",
    "plt.plot(df_sorted['Date'].values[start_index:end_index], predictions_cnn[:end_index - start_index], \n",
    "         color='orange', label='Predicted Crude Oil Price - CNN')\n",
    "plt.plot(df_sorted['Date'].values[start_index:end_index], predictions_lstm[:end_index - start_index], \n",
    "         color='purple', label='Predicted Crude Oil Price - LSTM')\n",
    "\n",
    "# Set font size for labels and title\n",
    "plt.xlabel('Date', fontsize=15)\n",
    "plt.ylabel('Crude Oil Price', fontsize=15)\n",
    "\n",
    "\n",
    "# Set font size for legend and ticks\n",
    "plt.legend(fontsize=12)\n",
    "plt.xticks(rotation=45, fontsize=12)  \n",
    "plt.yticks(fontsize=12)\n",
    "\n",
    "# Tight layout to prevent clipping\n",
    "plt.tight_layout()  \n",
    "plt.show()\n"
   ]
  },
  {
   "cell_type": "code",
   "execution_count": 27,
   "id": "03035c41-c522-4279-ad0e-7e770279e6f2",
   "metadata": {},
   "outputs": [
    {
     "name": "stdout",
     "output_type": "stream",
     "text": [
      "Bidirectional LSTM Metrics:\n",
      "MAE: 0.01626971953454034, MSE: 0.00045191405992985544, RMSE: 0.02125827038895346, R^2: 0.9771431786271606, Accuracy: 97.45081092463359%\n",
      "\n",
      "RNN Metrics:\n",
      "MAE: 0.024441558794474592, MSE: 0.0007619284529797913, RMSE: 0.027603051515725417, R^2: 0.9614633309896441, Accuracy: 96.17042232771588%\n",
      "\n",
      "CNN Metrics:\n",
      "MAE: 0.12549710743454948, MSE: 0.017550370477418867, RMSE: 0.1324778112644486, R^2: 0.11234077759877203, Accuracy: 80.3367320141529%\n",
      "\n",
      "LSTM Metrics:\n",
      "MAE: 0.01335848277447336, MSE: 0.0003831389202001547, RMSE: 0.019573934714312163, R^2: 0.9806216742595776, Accuracy: 97.90695234297904%\n",
      "\n",
      "GRU Metrics:\n",
      "MAE: 0.01592385637653581, MSE: 0.00040995048873168323, RMSE: 0.0202472341007774, R^2: 0.9792656039643849, Accuracy: 97.50500181477679%\n",
      "\n"
     ]
    }
   ],
   "source": [
    "import numpy as np\n",
    "from sklearn.metrics import mean_absolute_error, mean_squared_error, r2_score\n",
    "\n",
    "def calculate_metrics(y_true, y_pred):\n",
    "    mae = mean_absolute_error(y_true, y_pred)\n",
    "    mse = mean_squared_error(y_true, y_pred)\n",
    "    rmse = np.sqrt(mse)\n",
    "    r2 = r2_score(y_true, y_pred)\n",
    "    accuracy = 100 - (mae / np.mean(y_true) * 100)\n",
    "    return mae, mse, rmse, r2, accuracy\n",
    "\n",
    "# Calculate metrics for each model\n",
    "mae_bi_lstm, mse_bi_lstm, rmse_bi_lstm, r2_bi_lstm, accuracy_bi_lstm = calculate_metrics(y_test, predictions_bi_lstm)\n",
    "mae_rnn, mse_rnn, rmse_rnn, r2_rnn, accuracy_rnn = calculate_metrics(y_test, predictions_rnn)\n",
    "mae_cnn, mse_cnn, rmse_cnn, r2_cnn, accuracy_cnn = calculate_metrics(y_test, predictions_cnn)\n",
    "mae_lstm, mse_lstm, rmse_lstm, r2_lstm, accuracy_lstm = calculate_metrics(y_test, predictions_lstm)\n",
    "mae_gru, mse_gru, rmse_gru, r2_gru, accuracy_gru = calculate_metrics(y_test, predictions_gru)\n",
    "\n",
    "# Print the results for each model\n",
    "print(\"Bidirectional LSTM Metrics:\")\n",
    "print(f\"MAE: {mae_bi_lstm}, MSE: {mse_bi_lstm}, RMSE: {rmse_bi_lstm}, R^2: {r2_bi_lstm}, Accuracy: {accuracy_bi_lstm}%\\n\")\n",
    "\n",
    "print(\"RNN Metrics:\")\n",
    "print(f\"MAE: {mae_rnn}, MSE: {mse_rnn}, RMSE: {rmse_rnn}, R^2: {r2_rnn}, Accuracy: {accuracy_rnn}%\\n\")\n",
    "\n",
    "print(\"CNN Metrics:\")\n",
    "print(f\"MAE: {mae_cnn}, MSE: {mse_cnn}, RMSE: {rmse_cnn}, R^2: {r2_cnn}, Accuracy: {accuracy_cnn}%\\n\")\n",
    "\n",
    "print(\"LSTM Metrics:\")\n",
    "print(f\"MAE: {mae_lstm}, MSE: {mse_lstm}, RMSE: {rmse_lstm}, R^2: {r2_lstm}, Accuracy: {accuracy_lstm}%\\n\")\n",
    "\n",
    "print(\"GRU Metrics:\")\n",
    "print(f\"MAE: {mae_gru}, MSE: {mse_gru}, RMSE: {rmse_gru}, R^2: {r2_gru}, Accuracy: {accuracy_gru}%\\n\")\n"
   ]
  },
  {
   "cell_type": "code",
   "execution_count": null,
   "id": "dfd4ffa4-2ff1-42e6-8455-dbee204bf2d5",
   "metadata": {},
   "outputs": [],
   "source": []
  }
 ],
 "metadata": {
  "kernelspec": {
   "display_name": "Python 3 (ipykernel)",
   "language": "python",
   "name": "python3"
  },
  "language_info": {
   "codemirror_mode": {
    "name": "ipython",
    "version": 3
   },
   "file_extension": ".py",
   "mimetype": "text/x-python",
   "name": "python",
   "nbconvert_exporter": "python",
   "pygments_lexer": "ipython3",
   "version": "3.11.7"
  }
 },
 "nbformat": 4,
 "nbformat_minor": 5
}
